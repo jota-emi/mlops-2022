{
 "cells": [
  {
   "cell_type": "code",
   "execution_count": 1,
   "id": "ebca6a9d",
   "metadata": {},
   "outputs": [],
   "source": [
    "import wandb\n",
    "import matplotlib.pyplot as plt\n",
    "import seaborn as sns\n",
    "import pandas as pd\n",
    "import numpy as np\n",
    "from pandas_profiling import ProfileReport"
   ]
  },
  {
   "cell_type": "code",
   "execution_count": 2,
   "id": "c85e6290",
   "metadata": {},
   "outputs": [
    {
     "name": "stdout",
     "output_type": "stream",
     "text": [
      "      id                         listing_url       scrape_id last_scraped  \\\n",
      "0  17878  https://www.airbnb.com/rooms/17878  20211224070558   2021-12-25   \n",
      "1  24480  https://www.airbnb.com/rooms/24480  20211224070558   2021-12-25   \n",
      "2  25026  https://www.airbnb.com/rooms/25026  20211224070558   2021-12-25   \n",
      "3  35636  https://www.airbnb.com/rooms/35636  20211224070558   2021-12-26   \n",
      "4  35764  https://www.airbnb.com/rooms/35764  20211224070558   2021-12-25   \n",
      "\n",
      "                                                name  \\\n",
      "0  Very Nice 2Br in Copacabana w. balcony, fast WiFi   \n",
      "1   Nice and cozy near Ipanema Beach, w/ home office   \n",
      "2          Beautiful Modern Decorated Studio in Copa   \n",
      "3                   Cosy flat close to Ipanema beach   \n",
      "4     COPACABANA SEA BREEZE  -  RIO - 20 X Superhost   \n",
      "\n",
      "                                         description  \\\n",
      "0  Discounts for long term stays. <br />- Large b...   \n",
      "1  My studio is located in the best of Ipanema, t...   \n",
      "2  Our apartment is a little gem, everyone loves ...   \n",
      "3  This cosy apartment  is just a few steps away ...   \n",
      "4  Our newly renovated studio is located in the b...   \n",
      "\n",
      "                               neighborhood_overview  \\\n",
      "0  This is the one of the bests spots in Rio. Bec...   \n",
      "1  The beach, the lagoon, Ipanema is a great loca...   \n",
      "2  Copacabana is a lively neighborhood and the ap...   \n",
      "3  The  apartment street is very quiet and safe ....   \n",
      "4  Our guests will experience living with a local...   \n",
      "\n",
      "                                         picture_url  host_id  \\\n",
      "0  https://a0.muscache.com/pictures/65320518/3069...    68997   \n",
      "1  https://a0.muscache.com/pictures/11955612/b28e...    99249   \n",
      "2  https://a0.muscache.com/pictures/3003965/68ebb...   102840   \n",
      "3  https://a0.muscache.com/pictures/20009355/38b6...   153232   \n",
      "4  https://a0.muscache.com/pictures/23782972/1d3e...   153691   \n",
      "\n",
      "                                   host_url  ... review_scores_communication  \\\n",
      "0   https://www.airbnb.com/users/show/68997  ...                        4.90   \n",
      "1   https://www.airbnb.com/users/show/99249  ...                        4.90   \n",
      "2  https://www.airbnb.com/users/show/102840  ...                        4.90   \n",
      "3  https://www.airbnb.com/users/show/153232  ...                        4.88   \n",
      "4  https://www.airbnb.com/users/show/153691  ...                        4.94   \n",
      "\n",
      "  review_scores_location review_scores_value license instant_bookable  \\\n",
      "0                   4.76                4.66     NaN                f   \n",
      "1                   4.97                4.58     NaN                f   \n",
      "2                   4.81                4.56     NaN                f   \n",
      "3                   4.90                4.65     NaN                f   \n",
      "4                   4.94                4.87     NaN                f   \n",
      "\n",
      "  calculated_host_listings_count calculated_host_listings_count_entire_homes  \\\n",
      "0                              1                                           1   \n",
      "1                              1                                           1   \n",
      "2                              1                                           1   \n",
      "3                              1                                           1   \n",
      "4                              1                                           1   \n",
      "\n",
      "  calculated_host_listings_count_private_rooms  \\\n",
      "0                                            0   \n",
      "1                                            0   \n",
      "2                                            0   \n",
      "3                                            0   \n",
      "4                                            0   \n",
      "\n",
      "  calculated_host_listings_count_shared_rooms reviews_per_month  \n",
      "0                                           0              1.92  \n",
      "1                                           0              0.62  \n",
      "2                                           0              1.69  \n",
      "3                                           0              1.82  \n",
      "4                                           0              2.76  \n",
      "\n",
      "[5 rows x 74 columns]"
     ]
    }
   ],
   "source": [
    "df = pd.read_csv(\"listings.csv\")\n",
    "df.head()"
   ]
  },
  {
   "cell_type": "code",
   "execution_count": 3,
   "id": "6ad9eb9c",
   "metadata": {},
   "outputs": [],
   "source": [
    "df.to_csv(\"raw_data.csv\", index=False)"
   ]
  },
  {
   "cell_type": "code",
   "execution_count": 4,
   "id": "2834e655",
   "metadata": {},
   "outputs": [
    {
     "name": "stdout",
     "output_type": "stream",
     "text": [
      "True"
     ]
    }
   ],
   "source": [
    "# Login to Weights & Biases\n",
    "wandb.login(relogin=True)"
   ]
  },
  {
   "cell_type": "code",
   "execution_count": 5,
   "id": "b4b858ba",
   "metadata": {},
   "outputs": [],
   "source": [
    "ProfileReport(df, title=\"Pandas Profiling Report\", explorative=True)"
   ]
  },
  {
   "cell_type": "code",
   "execution_count": 6,
   "id": "c63b4ace",
   "metadata": {},
   "outputs": [],
   "source": [
    "!wandb artifact put \\\n",
    "      --name mlops_project/raw_data.csv \\\n",
    "      --type raw_data \\\n",
    "      --description \"The raw data from Airbnb\" raw_data.csv"
   ]
  },
  {
   "cell_type": "code",
   "execution_count": 7,
   "id": "cfd2c2f2",
   "metadata": {},
   "outputs": [
    {
     "data": {
      "text/html": [
       "Tracking run with wandb version 0.12.20"
      ],
      "text/plain": [
       "<IPython.core.display.HTML object>"
      ]
     },
     "metadata": {},
     "output_type": "display_data"
    },
    {
     "data": {
      "text/html": [
       "Run data is saved locally in <code>C:\\Users\\j_mar\\Desktop\\mlops-2022\\tasks\\project\\etl_eda\\wandb\\run-20220704_094559-ky60g6ay</code>"
      ],
      "text/plain": [
       "<IPython.core.display.HTML object>"
      ]
     },
     "metadata": {},
     "output_type": "display_data"
    },
    {
     "data": {
      "text/html": [
       "Syncing run <strong><a href=\"https://wandb.ai/jotaemi/mlops_project_etl/runs/ky60g6ay\" target=\"_blank\">rural-cherry-1</a></strong> to <a href=\"https://wandb.ai/jotaemi/mlops_project_etl\" target=\"_blank\">Weights & Biases</a> (<a href=\"https://wandb.me/run\" target=\"_blank\">docs</a>)<br/>"
      ],
      "text/plain": [
       "<IPython.core.display.HTML object>"
      ]
     },
     "metadata": {},
     "output_type": "display_data"
    }
   ],
   "source": [
    "# save_code tracking all changes of the notebook and sync with Wandb\n",
    "run = wandb.init(project=\"mlops_project_etl\", save_code=True)"
   ]
  },
  {
   "cell_type": "code",
   "execution_count": 8,
   "id": "7d1a61b8",
   "metadata": {},
   "outputs": [],
   "source": [
    "# donwload the latest version of artifact raw_data.csv\n",
    "artifact = run.use_artifact(\"mlops_project_etl/raw_data.csv:latest\")\n",
    "\n",
    "# create a dataframe from the artifact\n",
    "df = pd.read_csv(artifact.file())"
   ]
  },
  {
   "cell_type": "code",
   "execution_count": 9,
   "id": "8eba874e",
   "metadata": {},
   "outputs": [],
   "source": [
    "!wandb artifact put \\\n",
    "      --name mlops_project_etl/raw_data.csv \\\n",
    "      --type raw_data \\\n",
    "      --description \"The raw data from Airbnb\" raw_data.csv"
   ]
  },
  {
   "cell_type": "code",
   "execution_count": 10,
   "id": "a0327874",
   "metadata": {},
   "outputs": [],
   "source": [
    "# save_code tracking all changes of the notebook and sync with Wandb\n",
    "run = wandb.init(project=\"mlops_project_etl\", save_code=True)"
   ]
  }
 ],
 "metadata": {
  "kernelspec": {
   "display_name": "Python 3",
   "language": "python",
   "name": "python3"
  },
  "language_info": {
   "codemirror_mode": {
    "name": "ipython",
    "version": 3
   },
   "file_extension": ".py",
   "mimetype": "text/x-python",
   "name": "python",
   "nbconvert_exporter": "python",
   "pygments_lexer": "ipython3",
   "version": "3.10.5"
  }
 },
 "nbformat": 4,
 "nbformat_minor": 5
}
